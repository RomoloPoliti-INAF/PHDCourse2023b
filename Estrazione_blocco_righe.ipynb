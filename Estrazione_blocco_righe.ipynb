{
 "cells": [
  {
   "cell_type": "markdown",
   "id": "950e4e69-0d79-4138-bd16-41ac9ef300e3",
   "metadata": {},
   "source": [
    "# Estrazione di un blocco di righe da un file di testo"
   ]
  },
  {
   "cell_type": "markdown",
   "id": "8510d65c-018a-43d8-be57-3b7463510bd2",
   "metadata": {},
   "source": [
    "CSupponiamo di aver inserito in una lista il contenuto di un file di testo:\n",
    "```python\n",
    "with open('mio_file.txt','r') as fl:\n",
    "          lines=fl.readlines()\n",
    "```"
   ]
  },
  {
   "cell_type": "markdown",
   "id": "63755970-9e85-4eae-9f6e-935c4e87ee15",
   "metadata": {},
   "source": [
    "Creiamo una lista *dummy* per il nostro esempio"
   ]
  },
  {
   "cell_type": "code",
   "execution_count": 3,
   "id": "0762c3a6-444a-4ce5-b42c-13d29be783a4",
   "metadata": {},
   "outputs": [],
   "source": [
    "lines=['aaa','bbb','ccc','ddd','eee','fff','ccc','ggg']"
   ]
  },
  {
   "cell_type": "markdown",
   "id": "e0d6abfd-f5d8-4a89-889f-1531546e9e8c",
   "metadata": {},
   "source": [
    "La stringa che identifica il nostro blocco è *'ccc'*"
   ]
  },
  {
   "cell_type": "code",
   "execution_count": 4,
   "id": "2143793d-fc70-43d0-9710-34f7ec8e6992",
   "metadata": {},
   "outputs": [],
   "source": [
    "str_delimiter='ccc'"
   ]
  },
  {
   "cell_type": "markdown",
   "id": "fd274b34-e60f-4926-8d0e-51188f401b4c",
   "metadata": {},
   "source": [
    "definiamo una funzione che retituisce **True** se la nostra sub-stringa è contenuta nell'input altrimenti restituisce **False**"
   ]
  },
  {
   "cell_type": "code",
   "execution_count": 5,
   "id": "be1667cf-d594-4971-84ed-20ad0d50f313",
   "metadata": {},
   "outputs": [],
   "source": [
    "def my_funct(item:str)->bool:\n",
    "    if str_delimiter in item:\n",
    "        return True\n",
    "    else:\n",
    "        return False"
   ]
  },
  {
   "cell_type": "markdown",
   "id": "41dfb3f4-f33b-44a7-998c-8cc3abdc5e61",
   "metadata": {},
   "source": [
    "creiamo una lista temporanea mappando *my_funct* su *lines*"
   ]
  },
  {
   "cell_type": "code",
   "execution_count": 6,
   "id": "ecb98bed-dd0c-4832-aa2b-1c5d5f29d4eb",
   "metadata": {},
   "outputs": [],
   "source": [
    "a=list(map(my_funct,lines))"
   ]
  },
  {
   "cell_type": "code",
   "execution_count": 7,
   "id": "93862b80-5dd2-48c2-975c-3f70ab1aa60b",
   "metadata": {},
   "outputs": [
    {
     "data": {
      "text/plain": [
       "[False, False, True, False, False, False, True, False]"
      ]
     },
     "execution_count": 7,
     "metadata": {},
     "output_type": "execute_result"
    }
   ],
   "source": [
    "a"
   ]
  },
  {
   "cell_type": "markdown",
   "id": "94145a43-a350-4068-a3de-d53650722a61",
   "metadata": {},
   "source": [
    "A questa lista applichiamo prima la funzione **zip** che permette di creare un iteratore, in cui ogni elemento è una tupa con gli iesimi elementi delle due liste/tuple in argomento. nel nostro caso:"
   ]
  },
  {
   "cell_type": "code",
   "execution_count": 19,
   "id": "6bd4076c-595c-4633-99cc-b11a255fa3bf",
   "metadata": {},
   "outputs": [],
   "source": [
    "b=list(zip(a, range(len(a))))"
   ]
  },
  {
   "cell_type": "code",
   "execution_count": 20,
   "id": "388e9a12-3144-46d8-819f-b9d20e64ae36",
   "metadata": {},
   "outputs": [
    {
     "data": {
      "text/plain": [
       "[(False, 0),\n",
       " (False, 1),\n",
       " (True, 2),\n",
       " (False, 3),\n",
       " (False, 4),\n",
       " (False, 5),\n",
       " (True, 6),\n",
       " (False, 7)]"
      ]
     },
     "execution_count": 20,
     "metadata": {},
     "output_type": "execute_result"
    }
   ],
   "source": [
    "b"
   ]
  },
  {
   "cell_type": "markdown",
   "id": "51771380-f353-499a-9e0d-c319883519cc",
   "metadata": {},
   "source": [
    "poi filtriamo questa lista, eliminando gli elementi **False**"
   ]
  },
  {
   "cell_type": "code",
   "execution_count": 8,
   "id": "5ce110cd-a207-4c36-ad08-44996a2cfdfb",
   "metadata": {},
   "outputs": [],
   "source": [
    "filtered_list=filter(lambda x: x[0] is not False, zip(a, range(len(a))))"
   ]
  },
  {
   "cell_type": "markdown",
   "id": "813eea61-c7c0-4a00-914f-785c69da515f",
   "metadata": {},
   "source": [
    "In fine creiamo la lista dei due indici"
   ]
  },
  {
   "cell_type": "code",
   "execution_count": 9,
   "id": "9ad7d3e6-628b-4aa1-8939-4ac22a7ed51e",
   "metadata": {},
   "outputs": [],
   "source": [
    "idx=list(map(lambda x: x[1],filtered_list))"
   ]
  },
  {
   "cell_type": "code",
   "execution_count": 15,
   "id": "e9b64322-ae29-4dc4-bb65-1449a42326cc",
   "metadata": {},
   "outputs": [
    {
     "data": {
      "text/plain": [
       "['ddd', 'eee', 'fff']"
      ]
     },
     "execution_count": 15,
     "metadata": {},
     "output_type": "execute_result"
    }
   ],
   "source": [
    "lines[idx[0]+1:idx[-1]]"
   ]
  },
  {
   "cell_type": "markdown",
   "id": "c8bc1e31-7384-4670-91bd-2ecb629c618e",
   "metadata": {},
   "source": [
    "in questo modo non avremo utilizzato nessun ciclo for python incrementando la velocità del codice"
   ]
  },
  {
   "cell_type": "code",
   "execution_count": null,
   "id": "7bd79370-d014-4f51-a334-b223cd8aa17c",
   "metadata": {},
   "outputs": [],
   "source": []
  }
 ],
 "metadata": {
  "kernelspec": {
   "display_name": "Python 3 (ipykernel)",
   "language": "python",
   "name": "python3"
  },
  "language_info": {
   "codemirror_mode": {
    "name": "ipython",
    "version": 3
   },
   "file_extension": ".py",
   "mimetype": "text/x-python",
   "name": "python",
   "nbconvert_exporter": "python",
   "pygments_lexer": "ipython3",
   "version": "3.11.4"
  }
 },
 "nbformat": 4,
 "nbformat_minor": 5
}
